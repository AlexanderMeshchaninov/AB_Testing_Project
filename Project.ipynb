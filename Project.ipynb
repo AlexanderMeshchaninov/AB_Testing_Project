{
 "cells": [
  {
   "cell_type": "markdown",
   "id": "d24196de",
   "metadata": {},
   "source": [
    "# АНАЛИЗ ЭФФЕКТИВНОСТИ ДВУХ ВАРИАНТОВ ПОСАДОЧНОЙ СТРАНИЦЫ\n",
    "\n",
    "Примечание: Данные A/B тестирования уже собраны в файле ab_data_tourist.csv"
   ]
  },
  {
   "cell_type": "markdown",
   "id": "95055cfc",
   "metadata": {},
   "source": [
    "## План выполнения проекта:\n",
    "\n",
    "### 1. Проанализируем структуру данных и проведем их предобработку:\n",
    "\n",
    "- исследуем структуру данных;\n",
    "- преобразуем столбцы к необходимым типам данных.\n",
    "- Убедимся в одинаковой длительности проведения A/B-тестирования в каждой из групп. Если длительность разная, унифицируем данные, удалив лишние данные для соответствующей группы.\n",
    "- Проверим данные на наличие пропусков и избавимся от них, если нужно.\n",
    "- Проверим, есть ли пользователи, которые в процессе A/B-теста попали в обе группы. Если да, исключим пользователей, оказавшихся в обеих группах.\n",
    "\n",
    "### 2. Сделаем первичный анализ результатов A/B-тестирования:\n",
    "\n",
    "Рассчитаем вспомогательные показатели для контрольной и тестовой групп:\n",
    "\n",
    "- количество посещений сайта;\n",
    "- суммарное количество совершенных покупок;\n",
    "- сумма всех покупок.\n",
    "\n",
    "Сделаем промежуточные выводы по построенной таблице. Сопоставимо ли количество посещений обоих вариантов посадочной страницы? Можно ли говорить о сбалансированности выборок?\n",
    "\n",
    "В каждой из групп рассчитаем ключевые показатели:\n",
    "\n",
    "- конверсия;\n",
    "- средний чек.\n",
    "\n",
    "Сделаем первичные выводы о результатах A/B-тестирования на основе показателей конверсии и среднего чека в каждой из групп. Определим по какому(-им) показателю(-ям), на первый взгляд, вариант А эффективнее варианта B и наоборот.\n",
    "\n",
    "Сравним варианты A/B по покупательской способности каждого из туров. Для этого построим сводную таблицу, которая покажет зависимость количества продаж от группы и цены тура. Визуализируем полученную сводную таблицу.\n",
    "\n",
    "Сделаем выводы по построенной таблице. Определим по каким турам покупательская способность участников группы А выше, чем покупательская способность участников группы B, и наоборот.\n",
    "\n",
    "### 3. Проанализируем данные на предмет стабилизации метрик:\n",
    "\n",
    "Сгруппируем данные по дате и группе тестирования и построим таблицу с ежедневными данными результатов проведения A/B-тестирования. В каждой группе вычислим ежедневные показатели:\n",
    "\n",
    "- количество посещений страницы;\n",
    "- количество покупок;\n",
    "- сумму покупок.\n",
    "- Добавим в таблицу информацию о ежедневной конверсии (ежедневное количество покупок / ежедневное количество посещений) в группе и о ежедневном среднем чеке (ежедневная сумма покупок / ежедневное количество покупок).\n",
    "\n",
    "Рассчитаем кумулятивные показатели:\n",
    "\n",
    "- кумулятивное количество посещений страницы;\n",
    "- кумулятивное количество покупок;\n",
    "- кумулятивную сумму покупок.\n",
    "\n",
    "На основе полученных кумулятивных показателей вычислим кумулятивную конверсию и кумулятивный средний чек.\n",
    "\n",
    "Построим кумулятивные графики конверсии и среднего чека в каждой группе по дням.\n",
    "\n",
    "Сделаем выводы. Определим: \n",
    "\n",
    "- Можно ли назвать A/B-тест завершенным \n",
    "- Стабилизировались ли значения метрик во времени \n",
    "- Как соотносятся кумулятивные показатели в каждой группе\n",
    "\n",
    "### 4. Проведем статистический анализ результатов A/B-тестирования:\n",
    "\n",
    "- Сформулируем статистические гипотезы, соответствующие поставленным бизнес-вопросам, и выберем статистический тест для их проверки.\n",
    "- Проверим данные на нормальность там, где это необходимо.\n",
    "\n",
    "С помощью аппарата статистических тестов определим:\n",
    "\n",
    "- Есть ли статистическая разница между конверсиями в группах А и B\n",
    "- Есть ли статистическая разница между ежедневными средними чеками в группах А и B\n",
    "\n",
    "Подкрепите результаты статистических тестов, построив 95 % доверительные интервалы для:\n",
    "\n",
    "- конверсий в каждой из групп;\n",
    "- разницы конверсий в группах;\n",
    "- ежедневного среднего чека в каждой из групп.\n",
    "- Проинтерпретируем построенные доверительные интервалы для конверсий и ежедневного среднего чека в группах. Определим есть ли перекрытие между доверительными интервалами для групп. Если есть, то определим о чем это говорит\n",
    "\n",
    "### 5. Сделаем общий вывод по результатам A/B-теста.\n",
    "\n",
    "На основе всех исследований, определим какой варианта дизайна посадочной страницы более эффективен по метрикам конверсии и ежедневного среднего чека и почему."
   ]
  },
  {
   "cell_type": "markdown",
   "id": "ca1deb0a",
   "metadata": {},
   "source": [
    "### Необходимые библиотеки:"
   ]
  },
  {
   "cell_type": "code",
   "execution_count": 1,
   "id": "bc841678",
   "metadata": {},
   "outputs": [],
   "source": [
    "import pandas as pd\n",
    "import matplotlib.pyplot as plt\n",
    "import seaborn as sns\n",
    "import scipy.stats as stats\n",
    "from statsmodels.stats.proportion import proportions_ztest\n",
    "from functions import t_confidence_interval, proportion_conf_interval, diff_proportion_conf_interval"
   ]
  },
  {
   "cell_type": "markdown",
   "id": "f47ba733",
   "metadata": {},
   "source": [
    "Наша таблица представлена следующими полями:\n",
    "\n",
    "* user_id — идентификатор пользователя, зашедшего на сайт;\n",
    "* data — дата посещения сайта;\n",
    "* group — группа теста (контрольная — А или тестовая — B);\n",
    "* purchase — признак покупки: совершил ли пользователь покупку тура (1 — да, 0 — нет);\n",
    "* price — цена купленного тура (если покупка не состоялась, цена равна 0)."
   ]
  },
  {
   "cell_type": "code",
   "execution_count": 2,
   "id": "b3f54dbb",
   "metadata": {},
   "outputs": [
    {
     "data": {
      "text/html": [
       "<div>\n",
       "<style scoped>\n",
       "    .dataframe tbody tr th:only-of-type {\n",
       "        vertical-align: middle;\n",
       "    }\n",
       "\n",
       "    .dataframe tbody tr th {\n",
       "        vertical-align: top;\n",
       "    }\n",
       "\n",
       "    .dataframe thead th {\n",
       "        text-align: right;\n",
       "    }\n",
       "</style>\n",
       "<table border=\"1\" class=\"dataframe\">\n",
       "  <thead>\n",
       "    <tr style=\"text-align: right;\">\n",
       "      <th></th>\n",
       "      <th>user_id</th>\n",
       "      <th>date</th>\n",
       "      <th>group</th>\n",
       "      <th>purchase</th>\n",
       "      <th>price</th>\n",
       "    </tr>\n",
       "  </thead>\n",
       "  <tbody>\n",
       "    <tr>\n",
       "      <th>0</th>\n",
       "      <td>851104</td>\n",
       "      <td>2021-01-21</td>\n",
       "      <td>A</td>\n",
       "      <td>0</td>\n",
       "      <td>0</td>\n",
       "    </tr>\n",
       "    <tr>\n",
       "      <th>1</th>\n",
       "      <td>804228</td>\n",
       "      <td>2021-01-12</td>\n",
       "      <td>A</td>\n",
       "      <td>0</td>\n",
       "      <td>0</td>\n",
       "    </tr>\n",
       "    <tr>\n",
       "      <th>2</th>\n",
       "      <td>661590</td>\n",
       "      <td>2021-01-11</td>\n",
       "      <td>B</td>\n",
       "      <td>0</td>\n",
       "      <td>0</td>\n",
       "    </tr>\n",
       "    <tr>\n",
       "      <th>3</th>\n",
       "      <td>853541</td>\n",
       "      <td>2021-01-08</td>\n",
       "      <td>B</td>\n",
       "      <td>0</td>\n",
       "      <td>0</td>\n",
       "    </tr>\n",
       "    <tr>\n",
       "      <th>4</th>\n",
       "      <td>864975</td>\n",
       "      <td>2021-01-21</td>\n",
       "      <td>A</td>\n",
       "      <td>1</td>\n",
       "      <td>150000</td>\n",
       "    </tr>\n",
       "  </tbody>\n",
       "</table>\n",
       "</div>"
      ],
      "text/plain": [
       "   user_id        date group  purchase   price\n",
       "0   851104  2021-01-21     A         0       0\n",
       "1   804228  2021-01-12     A         0       0\n",
       "2   661590  2021-01-11     B         0       0\n",
       "3   853541  2021-01-08     B         0       0\n",
       "4   864975  2021-01-21     A         1  150000"
      ]
     },
     "execution_count": 2,
     "metadata": {},
     "output_type": "execute_result"
    }
   ],
   "source": [
    "ab_data = pd.read_csv('Data/ab_data_tourist.csv')\n",
    "ab_data.head()"
   ]
  },
  {
   "cell_type": "markdown",
   "id": "4828fa65",
   "metadata": {},
   "source": [
    "# 1. Анализ структуры данных и предобработка"
   ]
  },
  {
   "cell_type": "code",
   "execution_count": 3,
   "id": "459d5dbc",
   "metadata": {},
   "outputs": [
    {
     "name": "stdout",
     "output_type": "stream",
     "text": [
      "Основная информация по данным:\n",
      "<class 'pandas.core.frame.DataFrame'>\n",
      "RangeIndex: 294478 entries, 0 to 294477\n",
      "Data columns (total 5 columns):\n",
      " #   Column    Non-Null Count   Dtype \n",
      "---  ------    --------------   ----- \n",
      " 0   user_id   294478 non-null  int64 \n",
      " 1   date      294478 non-null  object\n",
      " 2   group     294478 non-null  object\n",
      " 3   purchase  294478 non-null  int64 \n",
      " 4   price     294478 non-null  int64 \n",
      "dtypes: int64(3), object(2)\n",
      "memory usage: 11.2+ MB\n",
      "\n",
      "Размеры данных:\n",
      "(294478, 5)\n",
      "\n",
      "Пропуски в данных:\n",
      "Series([], dtype: int64)\n",
      "\n",
      "Количество дублирующихся строк:\n",
      "74\n"
     ]
    }
   ],
   "source": [
    "print('Основная информация по данным:')\n",
    "ab_data.info()\n",
    "print()\n",
    "\n",
    "print('Размеры данных:')\n",
    "print(ab_data.shape)\n",
    "print()\n",
    "\n",
    "print('Пропуски в данных:')\n",
    "print(ab_data.isnull().sum()[ab_data.isnull().sum() > 0])\n",
    "print()\n",
    "\n",
    "print('Количество дублирующихся строк:')\n",
    "print(ab_data.duplicated().sum())"
   ]
  },
  {
   "cell_type": "markdown",
   "id": "a94eed36",
   "metadata": {},
   "source": [
    "Наш датасет состоит из 5 столбцов, без пропусков. Тип признака date требует обработки в datetime. Есть 74 дублирующихся строк, стоит убрать."
   ]
  },
  {
   "cell_type": "code",
   "execution_count": 4,
   "id": "34ece3d3",
   "metadata": {},
   "outputs": [
    {
     "name": "stdout",
     "output_type": "stream",
     "text": [
      "Количество дублирующихся строк: 148\n",
      "Примеры дублей:\n",
      "        user_id        date group  purchase  price\n",
      "7691     633793  2021-01-17     B         0      0\n",
      "10218    633793  2021-01-17     B         0      0\n",
      "89649    634965  2021-01-05     A         0      0\n",
      "249854   634965  2021-01-05     A         0      0\n",
      "231722   643296  2021-01-22     B         0      0\n",
      "276165   643296  2021-01-22     B         0      0\n",
      "25439    643820  2021-01-12     A         0      0\n",
      "256416   643820  2021-01-12     A         0      0\n",
      "30262    647733  2021-01-13     B         0      0\n",
      "33751    647733  2021-01-13     B         0      0\n",
      "154595   661349  2021-01-06     B         0      0\n",
      "213371   661349  2021-01-06     B         0      0\n",
      "231232   661480  2021-01-15     B         0      0\n",
      "268908   661480  2021-01-15     B         0      0\n",
      "128565   672483  2021-01-23     B         0      0\n",
      "255625   672483  2021-01-23     B         0      0\n",
      "10652    686262  2021-01-12     A         0      0\n",
      "169475   686262  2021-01-12     A         0      0\n",
      "107814   687490  2021-01-16     B         0      0\n",
      "116774   687490  2021-01-16     B         0      0\n"
     ]
    }
   ],
   "source": [
    "# Найти полностью дублирующиеся строки\n",
    "dupes = ab_data[ab_data.duplicated(keep=False)]\n",
    "\n",
    "print(f'Количество дублирующихся строк: {dupes.shape[0]}')\n",
    "print('Примеры дублей:')\n",
    "print(dupes.sort_values(list(ab_data.columns)).head(20))"
   ]
  },
  {
   "cell_type": "markdown",
   "id": "e9e35d1d",
   "metadata": {},
   "source": [
    "Все наши дубли — это одни и те же пользователи, одна и та же дата, та же группа, при этом:\n",
    "- purchase = 0 (то есть покупка не совершена),\n",
    "- price = 0.\n",
    "\n",
    "То есть фактически это дубликаты визитов без покупок, которые никак не влияют на метрики. Стоит их удалить."
   ]
  },
  {
   "cell_type": "code",
   "execution_count": 5,
   "id": "12f8e512",
   "metadata": {},
   "outputs": [
    {
     "name": "stdout",
     "output_type": "stream",
     "text": [
      "<class 'pandas.core.series.Series'>\n",
      "RangeIndex: 294478 entries, 0 to 294477\n",
      "Series name: date\n",
      "Non-Null Count   Dtype         \n",
      "--------------   -----         \n",
      "294478 non-null  datetime64[ns]\n",
      "dtypes: datetime64[ns](1)\n",
      "memory usage: 2.2 MB\n",
      "Исходный размер: (294478, 5)\n",
      "Размер после удаления дубликатов: (294404, 5)\n"
     ]
    }
   ],
   "source": [
    "# Меняем тип object на datetime\n",
    "ab_data['date'] = pd.to_datetime(ab_data['date'], format='%Y-%m-%d')\n",
    "ab_data['date'].info()\n",
    "# Удаляем дублирование\n",
    "print(f'Исходный размер: {ab_data.shape}')\n",
    "ab_data = ab_data.drop_duplicates()\n",
    "print(f'Размер после удаления дубликатов: {ab_data.shape}')"
   ]
  },
  {
   "cell_type": "code",
   "execution_count": 6,
   "id": "100d1319",
   "metadata": {},
   "outputs": [
    {
     "name": "stdout",
     "output_type": "stream",
     "text": [
      "Диапазоны дат по группам:\n",
      "             min        max\n",
      "group                      \n",
      "A     2021-01-02 2021-01-24\n",
      "B     2021-01-02 2021-01-24\n"
     ]
    }
   ],
   "source": [
    "print('Диапазоны дат по группам:')\n",
    "print(ab_data.groupby('group')['date'].agg(['min', 'max']))"
   ]
  },
  {
   "cell_type": "markdown",
   "id": "eb3bb848",
   "metadata": {},
   "source": [
    "По длительности теста, все нормально, даты начала и конца совпадают. Теперь стоит посмотреть на пользователей в обеих группах, чтобы группы были полностью независимы."
   ]
  },
  {
   "cell_type": "code",
   "execution_count": 7,
   "id": "db2734c5",
   "metadata": {},
   "outputs": [
    {
     "name": "stdout",
     "output_type": "stream",
     "text": [
      "Количество пользователей в обеих группах: 1895\n"
     ]
    }
   ],
   "source": [
    "user_groups = ab_data.groupby('user_id')['group'].nunique()\n",
    "multi_group_users = user_groups[user_groups > 1]\n",
    "print(f'Количество пользователей в обеих группах: {multi_group_users.shape[0]}')"
   ]
  },
  {
   "cell_type": "markdown",
   "id": "c07efee5",
   "metadata": {},
   "source": [
    "Нашлось 1895 пользователей, который 'видят' группы друг друга, это плохо, т.к. нарушает условия эксперимента. Придется их удалять."
   ]
  },
  {
   "cell_type": "code",
   "execution_count": 8,
   "id": "6892d707",
   "metadata": {},
   "outputs": [
    {
     "name": "stdout",
     "output_type": "stream",
     "text": [
      "Index([630320, 630805, 630871, 630887, 631008, 631337, 631459, 631838, 632069,\n",
      "       632464, 632592, 632642, 632690, 632794, 633243, 633692, 633897, 633949,\n",
      "       634098, 634203],\n",
      "      dtype='int64', name='user_id')\n"
     ]
    }
   ],
   "source": [
    "# Список таких пользователей\n",
    "print(multi_group_users.index[:20])  # первые 20 для примера\n",
    "\n",
    "# Исключение\n",
    "bad_users = multi_group_users.index\n",
    "ab_data = ab_data[~ab_data['user_id'].isin(bad_users)]"
   ]
  },
  {
   "cell_type": "code",
   "execution_count": 9,
   "id": "59b7f741",
   "metadata": {},
   "outputs": [
    {
     "name": "stdout",
     "output_type": "stream",
     "text": [
      "Количество пользователей в обеих группах: 0\n"
     ]
    }
   ],
   "source": [
    "user_groups = ab_data.groupby('user_id')['group'].nunique()\n",
    "multi_group_users = user_groups[user_groups > 1]\n",
    "print(f'Количество пользователей в обеих группах: {multi_group_users.shape[0]}')"
   ]
  },
  {
   "cell_type": "markdown",
   "id": "9cbbfe0a",
   "metadata": {},
   "source": [
    "# Вывод:\n",
    "\n",
    "В ходе этого этапа тип признака date был из изменен на datetime, кроме того, пользователи входящие в обе группы были исключены из экспперимента, проведена проверка на пропуски и длительности эксперимента. Датасет приведен к рабочему состоянию для дальнейшего этапа."
   ]
  },
  {
   "cell_type": "code",
   "execution_count": 10,
   "id": "c1b5df98",
   "metadata": {},
   "outputs": [],
   "source": [
    "# Сохраним первый этап\n",
    "ab_data.to_csv('Data/stage_1_ab_data.csv')"
   ]
  },
  {
   "cell_type": "markdown",
   "id": "31b87c52",
   "metadata": {},
   "source": [
    "## 2. Первичный анализ результатов A/B-тестирования"
   ]
  },
  {
   "cell_type": "code",
   "execution_count": 11,
   "id": "bfe731eb",
   "metadata": {},
   "outputs": [],
   "source": [
    "ab_data = pd.read_csv('Data/stage_1_ab_data.csv')\n",
    "ab_data['date'] = pd.to_datetime(ab_data['date'], format='%Y-%m-%d')\n",
    "for c in list(ab_data.columns):\n",
    "    if c.lower().startswith('unnamed'):\n",
    "        ab_data = ab_data.drop(columns=c)\n",
    "ab_data = ab_data.rename(columns={'price': 'revenue'})"
   ]
  },
  {
   "cell_type": "code",
   "execution_count": 12,
   "id": "52f4bf1a",
   "metadata": {},
   "outputs": [
    {
     "name": "stdout",
     "output_type": "stream",
     "text": [
      "       visits  purchases  revenue_sum  conversion     avg_check\n",
      "group                                                          \n",
      "A      145268      17487   1417780000   12.037751  81076.228055\n",
      "B      145346      17290   1533010000   11.895752  88664.545980\n"
     ]
    }
   ],
   "source": [
    "# Вспомогательные показатели по группам\n",
    "summary = ab_data.groupby('group').agg(\n",
    "        visits=('user_id', 'count'),        # количество визитов\n",
    "        purchases=('purchase', 'sum'),      # покупки\n",
    "        revenue_sum=('revenue', 'sum'),     # сумма покупок\n",
    ")\n",
    "\n",
    "# Коверсия и средний чек\n",
    "summary['conversion'] = (summary['purchases'] / summary['visits']) * 100\n",
    "summary['avg_check'] = summary['revenue_sum'] / summary['purchases']\n",
    "\n",
    "print(summary)"
   ]
  },
  {
   "cell_type": "markdown",
   "id": "114c2011",
   "metadata": {},
   "source": [
    "Баланс трафика составляет:\n",
    "\n",
    "- A: 145 268 визитов\n",
    "- B: 145 346 визитов\n",
    "\n",
    "Разница составляет всего 78 визитов, можно считать, что выборки сбалансированы по размеру.\n",
    "\n",
    "Количество покупок\n",
    "\n",
    "- В группе A чуть больше покупок (17 487 против 17 290), но разница незначительная.\n",
    "\n",
    "Суммарная выручка\n",
    "\n",
    "- В группе B сумма покупок выше (1 533 млн против 1 418 млн) — уже на этом этапе видно, что пользователи группы B в среднем тратят больше.\n",
    "\n",
    "Конверсия\n",
    "\n",
    "- В группе A наблюдается чуть выше конверсия, однако разница небольшая\n",
    "\n",
    "Средний чек\n",
    "\n",
    "- Невооруженным взглядом видно, что даже средний чек в группе B выше чем в группе A\n",
    "\n",
    "Выборки являются сбалансированными."
   ]
  },
  {
   "cell_type": "code",
   "execution_count": 13,
   "id": "049a97ff",
   "metadata": {},
   "outputs": [
    {
     "name": "stdout",
     "output_type": "stream",
     "text": [
      "Сводная таблица покупок по группам и ценам туров:\n",
      "group       A     B\n",
      "revenue            \n",
      "10000    5182  5201\n",
      "60000    5271  1730\n",
      "100000   1832  5227\n",
      "150000   3478  3438\n",
      "200000   1724  1694\n"
     ]
    },
    {
     "data": {
      "image/png": "[encoded data removed]",
      "text/plain": [
       "<Figure size 1200x600 with 1 Axes>"
      ]
     },
     "metadata": {},
     "output_type": "display_data"
    }
   ],
   "source": [
    "purchases = ab_data[ab_data['purchase'] == 1] # Совершенные покупки\n",
    "n_unique = purchases['revenue'].nunique() # цены\n",
    "\n",
    "# Сводная таблица: количество покупок по группам и ценовым интервалам\n",
    "pivot_price = (\n",
    "    purchases\n",
    "    .groupby(['revenue', 'group'])['purchase']\n",
    "    .count()\n",
    "    .unstack(fill_value=0)\n",
    ")\n",
    "\n",
    "print('Сводная таблица покупок по группам и ценам туров:')\n",
    "print(pivot_price)\n",
    "\n",
    "# Визуализация: сгруппированные столбцы\n",
    "pivot_price.plot(kind='bar', figsize=(12,6))\n",
    "plt.title('Количество покупок по ценам туров (сравнение A vs B)')\n",
    "plt.xlabel('Ценовой диапазон тура')\n",
    "plt.ylabel('Количество покупок')\n",
    "plt.xticks(rotation=45, ha='right')\n",
    "plt.legend(title='Группа')\n",
    "plt.grid(True, axis='y')\n",
    "plt.show()"
   ]
  },
  {
   "cell_type": "markdown",
   "id": "5c05f502",
   "metadata": {},
   "source": [
    "Из полученных данных можно сделать некоторые выводы:\n",
    "\n",
    "- В группе A лучше продаются туры среднего ценового сегмента (60k).\n",
    "\n",
    "- В группе B лучше продаются дорогие туры (100k).\n",
    "\n",
    "В крайних сегментах (10k, 150k, 200k) группы практически одинаковы.\n",
    "\n",
    "Таким образом, именно за счет перевеса в сегменте 100k у группы B формируется более высокий средний чек и больше суммарная выручка, хотя общее количество покупок у нее даже чуть меньше."
   ]
  },
  {
   "cell_type": "markdown",
   "id": "e6b19e93",
   "metadata": {},
   "source": [
    "# Вывод:\n",
    "\n",
    "Исходя из данных этого этапа можно сделать промежуточные выводы о том, что группы сбалансированы по трафику, то есть эксперимент проведен корректно. Базовая группа A выигрывает по конверсии, но совсем чуть-чуть. Тестовая группа B выигрывает по среднему чеку и суммарной выручке, в первую очередь за счет бОльшего числа покупок в сегменте дорогих туров (100 000 руб).\n",
    "\n",
    "В связи с этим, предварительно можно сказать, что вариант B более выгоден для бизнеса, так как приносит больше денег при сопоставимой конверсии.\n",
    "\n",
    "Примечание: На данном этапе нет смысла сохранять stage_2_csv, т.к внесение изменений в датасет не было."
   ]
  },
  {
   "cell_type": "markdown",
   "id": "a58934da",
   "metadata": {},
   "source": [
    "# 3. Анализ данные на предмет стабилизации метрик"
   ]
  },
  {
   "cell_type": "code",
   "execution_count": 14,
   "id": "12dd3de2",
   "metadata": {},
   "outputs": [
    {
     "data": {
      "text/html": [
       "<div>\n",
       "<style scoped>\n",
       "    .dataframe tbody tr th:only-of-type {\n",
       "        vertical-align: middle;\n",
       "    }\n",
       "\n",
       "    .dataframe tbody tr th {\n",
       "        vertical-align: top;\n",
       "    }\n",
       "\n",
       "    .dataframe thead th {\n",
       "        text-align: right;\n",
       "    }\n",
       "</style>\n",
       "<table border=\"1\" class=\"dataframe\">\n",
       "  <thead>\n",
       "    <tr style=\"text-align: right;\">\n",
       "      <th></th>\n",
       "      <th>date</th>\n",
       "      <th>group</th>\n",
       "      <th>visits</th>\n",
       "      <th>purchases</th>\n",
       "      <th>revenue_sum</th>\n",
       "      <th>conversion_daily</th>\n",
       "      <th>avg_check_daily</th>\n",
       "    </tr>\n",
       "  </thead>\n",
       "  <tbody>\n",
       "    <tr>\n",
       "      <th>0</th>\n",
       "      <td>2021-01-02</td>\n",
       "      <td>A</td>\n",
       "      <td>2854</td>\n",
       "      <td>359</td>\n",
       "      <td>29410000</td>\n",
       "      <td>0.125788</td>\n",
       "      <td>81922.005571</td>\n",
       "    </tr>\n",
       "    <tr>\n",
       "      <th>1</th>\n",
       "      <td>2021-01-02</td>\n",
       "      <td>B</td>\n",
       "      <td>2861</td>\n",
       "      <td>345</td>\n",
       "      <td>29660000</td>\n",
       "      <td>0.120587</td>\n",
       "      <td>85971.014493</td>\n",
       "    </tr>\n",
       "    <tr>\n",
       "      <th>2</th>\n",
       "      <td>2021-01-03</td>\n",
       "      <td>A</td>\n",
       "      <td>6595</td>\n",
       "      <td>748</td>\n",
       "      <td>62000000</td>\n",
       "      <td>0.113419</td>\n",
       "      <td>82887.700535</td>\n",
       "    </tr>\n",
       "    <tr>\n",
       "      <th>3</th>\n",
       "      <td>2021-01-03</td>\n",
       "      <td>B</td>\n",
       "      <td>6619</td>\n",
       "      <td>754</td>\n",
       "      <td>65960000</td>\n",
       "      <td>0.113914</td>\n",
       "      <td>87480.106101</td>\n",
       "    </tr>\n",
       "    <tr>\n",
       "      <th>4</th>\n",
       "      <td>2021-01-04</td>\n",
       "      <td>A</td>\n",
       "      <td>6564</td>\n",
       "      <td>799</td>\n",
       "      <td>64250000</td>\n",
       "      <td>0.121725</td>\n",
       "      <td>80413.016270</td>\n",
       "    </tr>\n",
       "  </tbody>\n",
       "</table>\n",
       "</div>"
      ],
      "text/plain": [
       "        date group  visits  purchases  revenue_sum  conversion_daily  \\\n",
       "0 2021-01-02     A    2854        359     29410000          0.125788   \n",
       "1 2021-01-02     B    2861        345     29660000          0.120587   \n",
       "2 2021-01-03     A    6595        748     62000000          0.113419   \n",
       "3 2021-01-03     B    6619        754     65960000          0.113914   \n",
       "4 2021-01-04     A    6564        799     64250000          0.121725   \n",
       "\n",
       "   avg_check_daily  \n",
       "0     81922.005571  \n",
       "1     85971.014493  \n",
       "2     82887.700535  \n",
       "3     87480.106101  \n",
       "4     80413.016270  "
      ]
     },
     "execution_count": 14,
     "metadata": {},
     "output_type": "execute_result"
    }
   ],
   "source": [
    "# Ежедневные метрики\n",
    "daily_data = (\n",
    "    ab_data\n",
    "    .groupby(['date', 'group'])\n",
    "    .agg(\n",
    "        visits=('user_id', 'count'),\n",
    "        purchases=('purchase', 'sum'),\n",
    "        revenue_sum=('revenue', 'sum')\n",
    "    )\n",
    "    .reset_index()\n",
    "    .sort_values(['date','group'])\n",
    ")\n",
    "\n",
    "# Ежедневная конверсия и средний чек\n",
    "daily_data['conversion_daily'] = daily_data['purchases'] / daily_data['visits']\n",
    "daily_data['avg_check_daily'] = daily_data['revenue_sum'] / daily_data['purchases']\n",
    "\n",
    "daily_data.head()"
   ]
  },
  {
   "cell_type": "code",
   "execution_count": 15,
   "id": "7eb35cf3",
   "metadata": {},
   "outputs": [
    {
     "data": {
      "text/html": [
       "<div>\n",
       "<style scoped>\n",
       "    .dataframe tbody tr th:only-of-type {\n",
       "        vertical-align: middle;\n",
       "    }\n",
       "\n",
       "    .dataframe tbody tr th {\n",
       "        vertical-align: top;\n",
       "    }\n",
       "\n",
       "    .dataframe thead th {\n",
       "        text-align: right;\n",
       "    }\n",
       "</style>\n",
       "<table border=\"1\" class=\"dataframe\">\n",
       "  <thead>\n",
       "    <tr style=\"text-align: right;\">\n",
       "      <th></th>\n",
       "      <th>date</th>\n",
       "      <th>group</th>\n",
       "      <th>visits</th>\n",
       "      <th>purchases</th>\n",
       "      <th>revenue_sum</th>\n",
       "      <th>conversion_daily</th>\n",
       "      <th>avg_check_daily</th>\n",
       "      <th>cum_visits</th>\n",
       "      <th>cum_purchases</th>\n",
       "      <th>cum_revenue</th>\n",
       "      <th>cum_conversion</th>\n",
       "      <th>cum_avg_check</th>\n",
       "    </tr>\n",
       "  </thead>\n",
       "  <tbody>\n",
       "    <tr>\n",
       "      <th>0</th>\n",
       "      <td>2021-01-02</td>\n",
       "      <td>A</td>\n",
       "      <td>2854</td>\n",
       "      <td>359</td>\n",
       "      <td>29410000</td>\n",
       "      <td>0.125788</td>\n",
       "      <td>81922.005571</td>\n",
       "      <td>2854</td>\n",
       "      <td>359</td>\n",
       "      <td>29410000</td>\n",
       "      <td>12.578837</td>\n",
       "      <td>81922.005571</td>\n",
       "    </tr>\n",
       "    <tr>\n",
       "      <th>1</th>\n",
       "      <td>2021-01-02</td>\n",
       "      <td>B</td>\n",
       "      <td>2861</td>\n",
       "      <td>345</td>\n",
       "      <td>29660000</td>\n",
       "      <td>0.120587</td>\n",
       "      <td>85971.014493</td>\n",
       "      <td>2861</td>\n",
       "      <td>345</td>\n",
       "      <td>29660000</td>\n",
       "      <td>12.058721</td>\n",
       "      <td>85971.014493</td>\n",
       "    </tr>\n",
       "    <tr>\n",
       "      <th>2</th>\n",
       "      <td>2021-01-03</td>\n",
       "      <td>A</td>\n",
       "      <td>6595</td>\n",
       "      <td>748</td>\n",
       "      <td>62000000</td>\n",
       "      <td>0.113419</td>\n",
       "      <td>82887.700535</td>\n",
       "      <td>9449</td>\n",
       "      <td>1107</td>\n",
       "      <td>91410000</td>\n",
       "      <td>11.715525</td>\n",
       "      <td>82574.525745</td>\n",
       "    </tr>\n",
       "    <tr>\n",
       "      <th>3</th>\n",
       "      <td>2021-01-03</td>\n",
       "      <td>B</td>\n",
       "      <td>6619</td>\n",
       "      <td>754</td>\n",
       "      <td>65960000</td>\n",
       "      <td>0.113914</td>\n",
       "      <td>87480.106101</td>\n",
       "      <td>9480</td>\n",
       "      <td>1099</td>\n",
       "      <td>95620000</td>\n",
       "      <td>11.592827</td>\n",
       "      <td>87006.369427</td>\n",
       "    </tr>\n",
       "    <tr>\n",
       "      <th>4</th>\n",
       "      <td>2021-01-04</td>\n",
       "      <td>A</td>\n",
       "      <td>6564</td>\n",
       "      <td>799</td>\n",
       "      <td>64250000</td>\n",
       "      <td>0.121725</td>\n",
       "      <td>80413.016270</td>\n",
       "      <td>16013</td>\n",
       "      <td>1906</td>\n",
       "      <td>155660000</td>\n",
       "      <td>11.902829</td>\n",
       "      <td>81668.415530</td>\n",
       "    </tr>\n",
       "  </tbody>\n",
       "</table>\n",
       "</div>"
      ],
      "text/plain": [
       "        date group  visits  purchases  revenue_sum  conversion_daily  \\\n",
       "0 2021-01-02     A    2854        359     29410000          0.125788   \n",
       "1 2021-01-02     B    2861        345     29660000          0.120587   \n",
       "2 2021-01-03     A    6595        748     62000000          0.113419   \n",
       "3 2021-01-03     B    6619        754     65960000          0.113914   \n",
       "4 2021-01-04     A    6564        799     64250000          0.121725   \n",
       "\n",
       "   avg_check_daily  cum_visits  cum_purchases  cum_revenue  cum_conversion  \\\n",
       "0     81922.005571        2854            359     29410000       12.578837   \n",
       "1     85971.014493        2861            345     29660000       12.058721   \n",
       "2     82887.700535        9449           1107     91410000       11.715525   \n",
       "3     87480.106101        9480           1099     95620000       11.592827   \n",
       "4     80413.016270       16013           1906    155660000       11.902829   \n",
       "\n",
       "   cum_avg_check  \n",
       "0   81922.005571  \n",
       "1   85971.014493  \n",
       "2   82574.525745  \n",
       "3   87006.369427  \n",
       "4   81668.415530  "
      ]
     },
     "metadata": {},
     "output_type": "display_data"
    }
   ],
   "source": [
    "# Кумулятивные визиты\n",
    "daily_data['cum_visits'] = daily_data.groupby('group')['visits'].cumsum()\n",
    "# Кумулятивные покупки\n",
    "daily_data['cum_purchases'] = daily_data.groupby('group')['purchases'].cumsum()\n",
    "# Кумулятивная cумма покупок\n",
    "daily_data['cum_revenue'] = daily_data.groupby('group')['revenue_sum'].cumsum()\n",
    "# Кумулятивная конверсия\n",
    "daily_data['cum_conversion'] = (daily_data['cum_purchases'] / daily_data['cum_visits']) * 100\n",
    "# Кумулятивный средний чек\n",
    "daily_data['cum_avg_check'] = daily_data['cum_revenue'] / daily_data['cum_purchases']\n",
    "\n",
    "display(daily_data.head())"
   ]
  },
  {
   "cell_type": "code",
   "execution_count": 16,
   "id": "703b3486",
   "metadata": {},
   "outputs": [
    {
     "data": {
      "image/png": "[encoded data removed]",
      "text/plain": [
       "<Figure size 800x400 with 1 Axes>"
      ]
     },
     "metadata": {},
     "output_type": "display_data"
    }
   ],
   "source": [
    "# создаем фигуру размером 8x4\n",
    "fig = plt.figure(figsize=(8, 4))\n",
    "# добавляем систему координат\n",
    "ax = fig.add_axes([1, 1, 1, 1])\n",
    "# строим lineplot для кумулятивной конверсии во времени в каждой группе\n",
    "sns.lineplot(\n",
    "    data=daily_data,\n",
    "    x='date', \n",
    "    y='cum_conversion',  \n",
    "    hue='group', \n",
    "    ax=ax\n",
    ")\n",
    "# задаем подпись к графику\n",
    "ax.set_title('График кумулятивной конверсии по дням')\n",
    "# задаем поворот меток на оси абсцисс\n",
    "ax.xaxis.set_tick_params(rotation = 45)\n",
    "# задаем отображение сетки\n",
    "ax.grid(True);"
   ]
  },
  {
   "cell_type": "markdown",
   "id": "f6cd0df2",
   "metadata": {},
   "source": [
    "# Вывод:\n",
    "\n",
    "Согласно данным по этому этапу и полученному графику можно сказать, что после 5–7 января кумулятивные кривые сглаживаются и к концу теста (20–24 января) значения стабилизировались:\n",
    "\n",
    "- Группа A держится немного выше (12.0%),\n",
    "\n",
    "- Группа B чуть ниже (11.9%).\n",
    "\n",
    "Таким образом, конверсия в обеих группах стабилизировалась и тест можно считать завершенным. Группа A все время немного лидирует по конверсии, но разрыв очень небольшой."
   ]
  },
  {
   "cell_type": "markdown",
   "id": "b192a07f",
   "metadata": {},
   "source": [
    "# 4. Cтатистический анализ результатов A/B-тестирования"
   ]
  },
  {
   "cell_type": "markdown",
   "id": "a74447f8",
   "metadata": {},
   "source": [
    "Для начала на нормальность проверим ежедневный средней чек отдельно по группам, т.к. распределение в группах может быть разным. Сформулируем гипотезы:\n",
    "\n",
    "* H0 - выборка ежедневных средних чеков получена из нормального распределения;\n",
    "* H1 - распределение отличны от нормального."
   ]
  },
  {
   "cell_type": "code",
   "execution_count": 17,
   "id": "56d3407e",
   "metadata": {},
   "outputs": [],
   "source": [
    "group_a = daily_data[daily_data['group'] == 'A']\n",
    "group_b = daily_data[daily_data['group'] == 'B']"
   ]
  },
  {
   "cell_type": "code",
   "execution_count": 18,
   "id": "335ca07f",
   "metadata": {},
   "outputs": [
    {
     "data": {
      "image/png": "[encoded data removed]",
      "text/plain": [
       "<Figure size 1200x400 with 2 Axes>"
      ]
     },
     "metadata": {},
     "output_type": "display_data"
    }
   ],
   "source": [
    "# создаем два графика размером 12x4\n",
    "fig, axes = plt.subplots(1, 2, figsize=(12, 4))\n",
    "# строим гистограмму для времени на сайте в каждой группе\n",
    "sns.histplot(\n",
    "    data=group_a, \n",
    "    x='avg_check_daily',\n",
    "    ax=axes[0]\n",
    ")\n",
    "sns.histplot(\n",
    "    data=group_b, \n",
    "    x='avg_check_daily',\n",
    "    ax=axes[1]\n",
    ")\n",
    "# задаем названия графикам\n",
    "axes[0].set_title('Распределение ежедневного среднего чека в группе А');\n",
    "axes[1].set_title('Распределение ежедневного среднего чека в группе B');"
   ]
  },
  {
   "cell_type": "markdown",
   "id": "b6d4b975",
   "metadata": {},
   "source": [
    "Гистограммы напоминают нормальное распределение. Проверим гипотезу о нормальности обоих распределений с помощью теста Шапиро — Уилка."
   ]
  },
  {
   "cell_type": "code",
   "execution_count": 19,
   "id": "ca6c2eaf",
   "metadata": {},
   "outputs": [
    {
     "name": "stdout",
     "output_type": "stream",
     "text": [
      "Тест для группы А\n",
      "Данные нормально распределены (p-value = 0.2531)\n",
      "Тест для группы B\n",
      "Данные нормально распределены (p-value = 0.0938)\n"
     ]
    }
   ],
   "source": [
    "# уровень значимости\n",
    "alpha = 0.05 # 95%\n",
    "# Выполняем тест Шапиро-Уилка\n",
    "stat, p_value = stats.shapiro(group_a['avg_check_daily'])\n",
    "\n",
    "print('Тест для группы А')\n",
    "# Интерпретация результатов\n",
    "if p_value > alpha:\n",
    "    print(f'Данные нормально распределены (p-value = {p_value:.4f})')\n",
    "else:\n",
    "    print(f'Данные не нормально распределены (p-value = {p_value:.4f})')\n",
    "\n",
    "# уровень значимости\n",
    "alpha = 0.05 # 95%\n",
    "# Выполняем тест Шапиро-Уилка\n",
    "stat, p_value = stats.shapiro(group_b['avg_check_daily'])\n",
    "\n",
    "print('Тест для группы B')\n",
    "# Интерпретация результатов\n",
    "if p_value > alpha:\n",
    "    print(f'Данные нормально распределены (p-value = {p_value:.4f})')\n",
    "else:\n",
    "    print(f'Данные не нормально распределены (p-value = {p_value:.4f})')"
   ]
  },
  {
   "cell_type": "markdown",
   "id": "816a7350",
   "metadata": {},
   "source": [
    "Таким образом у нас нет оснований отвергнуть нулевую H0 гипотезу - данные о ежедневных средних чеках в обеих группах распределены нормально. Дополнительно, чтобы удостовериться в правильности выбора теста стоит проверить равенство дисперсий с помощью теста Левена."
   ]
  },
  {
   "cell_type": "markdown",
   "id": "64b503a7",
   "metadata": {},
   "source": [
    "* H0 - дисперсии в группах ежедневных средних чеков равны;\n",
    "* H1 - дисперсии в группах различаются."
   ]
  },
  {
   "cell_type": "code",
   "execution_count": 20,
   "id": "52288c6d",
   "metadata": {},
   "outputs": [
    {
     "name": "stdout",
     "output_type": "stream",
     "text": [
      "Тест Левена: p-value = 0.2617\n",
      "Нет оснований отвергать H0: дисперсии равны\n"
     ]
    }
   ],
   "source": [
    "# уровень значимости\n",
    "alpha = 0.05 # 95%\n",
    "# Проверка равенства дисперсий (тест Левена)\n",
    "stat, p_value = stats.levene(group_a['avg_check_daily'], \n",
    "                             group_b['avg_check_daily']\n",
    ")\n",
    "\n",
    "print(f'Тест Левена: p-value = {p_value:.4f}')\n",
    "\n",
    "if p_value > alpha:\n",
    "    print('Нет оснований отвергать H0: дисперсии равны')\n",
    "else:\n",
    "    print('Дисперсии различаются')"
   ]
  },
  {
   "cell_type": "markdown",
   "id": "d056c02a",
   "metadata": {},
   "source": [
    "Проведя дополнительно тест Левена на равенство дисперсий можно с уверенность сказать, что для сравнения ежедневных средних чеков в группах выбираем **классический двухвыборочный t-критерий тест**. Проведем тест для ежедневных средних чеков сравнив статистическую разницу между группами."
   ]
  },
  {
   "cell_type": "markdown",
   "id": "ee1eb123",
   "metadata": {},
   "source": [
    "* H0 - статистической разницы в группах по ежедневным средним чекам нет;\n",
    "* H1 - статистическая разница в группах есть."
   ]
  },
  {
   "cell_type": "code",
   "execution_count": 21,
   "id": "3728b030",
   "metadata": {},
   "outputs": [
    {
     "name": "stdout",
     "output_type": "stream",
     "text": [
      "p-value: 0.0\n",
      "Отвергаем нулевую гипотезу H_0, принимаем альтернативную!\n"
     ]
    }
   ],
   "source": [
    "alpha = 0.05 # уровень значимости\n",
    "# вычисляем результат T-теста для выборок\n",
    "results = stats.ttest_ind(\n",
    "    a=group_a['avg_check_daily'],\n",
    "    b=group_b['avg_check_daily'],\n",
    "    alternative='two-sided'\n",
    ")\n",
    "print('p-value:', round(results.pvalue, 2))\n",
    "\n",
    "# сравниваем полученное p-value с уровнем значимости\n",
    "if(results.pvalue <= alpha):\n",
    "    print('Отвергаем нулевую гипотезу H_0, принимаем альтернативную!')\n",
    "else:\n",
    "    print('Оставляем нулевую гипотезу H_0 не принимаем альтернативную!')"
   ]
  },
  {
   "cell_type": "markdown",
   "id": "918bb593",
   "metadata": {},
   "source": [
    "Таким образом разница в средних чеках между группами статистически значима. Группа B имеет более высокий средний чек (что мы видели еще на описательной статистике)."
   ]
  },
  {
   "cell_type": "markdown",
   "id": "988d904c",
   "metadata": {},
   "source": [
    "Теперь стоит изучить конверсии покупок и их статистическую разницу. Поскольку это категориальный признак, использую Z-тест для пропорций.\n",
    "\n",
    "* H0 - статистической разницы в группах по конверсиям покупок нет;\n",
    "* H1 - статистическая разница в группах по конверсии покупок есть."
   ]
  },
  {
   "cell_type": "code",
   "execution_count": 22,
   "id": "430774a6",
   "metadata": {},
   "outputs": [
    {
     "data": {
      "text/html": [
       "<div>\n",
       "<style scoped>\n",
       "    .dataframe tbody tr th:only-of-type {\n",
       "        vertical-align: middle;\n",
       "    }\n",
       "\n",
       "    .dataframe tbody tr th {\n",
       "        vertical-align: top;\n",
       "    }\n",
       "\n",
       "    .dataframe thead th {\n",
       "        text-align: right;\n",
       "    }\n",
       "</style>\n",
       "<table border=\"1\" class=\"dataframe\">\n",
       "  <thead>\n",
       "    <tr style=\"text-align: right;\">\n",
       "      <th></th>\n",
       "      <th>sum</th>\n",
       "      <th>count</th>\n",
       "    </tr>\n",
       "    <tr>\n",
       "      <th>group</th>\n",
       "      <th></th>\n",
       "      <th></th>\n",
       "    </tr>\n",
       "  </thead>\n",
       "  <tbody>\n",
       "    <tr>\n",
       "      <th>A</th>\n",
       "      <td>17487</td>\n",
       "      <td>145268</td>\n",
       "    </tr>\n",
       "    <tr>\n",
       "      <th>B</th>\n",
       "      <td>17290</td>\n",
       "      <td>145346</td>\n",
       "    </tr>\n",
       "  </tbody>\n",
       "</table>\n",
       "</div>"
      ],
      "text/plain": [
       "         sum   count\n",
       "group               \n",
       "A      17487  145268\n",
       "B      17290  145346"
      ]
     },
     "metadata": {},
     "output_type": "display_data"
    }
   ],
   "source": [
    "purchase_piv = ab_data.groupby('group')['purchase'].agg(\n",
    "    ['sum', 'count']\n",
    ")\n",
    "display(purchase_piv)"
   ]
  },
  {
   "cell_type": "code",
   "execution_count": 23,
   "id": "81cf9c00",
   "metadata": {},
   "outputs": [
    {
     "name": "stdout",
     "output_type": "stream",
     "text": [
      "p_value: 0.238\n",
      "Оставляем нулевую гипотезу H_0 не принимаем альтернативную!\n"
     ]
    }
   ],
   "source": [
    "# уровень значимости\n",
    "alpha = 0.05\n",
    "\n",
    "# вычисляем значение p-value для z-теста для пропорций\n",
    "_, p_value = proportions_ztest(\n",
    "    count=purchase_piv['sum'], # число пользователей совершивших конверсию (успехов)\n",
    "    nobs=purchase_piv['count'], # общее число пользователей в группах\n",
    "    alternative='two-sided'\n",
    ")\n",
    "\n",
    "# выводим результат на экран\n",
    "print(f'p_value: {round(p_value, 3)}')\n",
    "\n",
    "# сравниваем полученное p-value с уровнем значимости\n",
    "if(p_value <= alpha):\n",
    "    print('Отвергаем нулевую гипотезу H_0, принимаем альтернативную!')\n",
    "else:\n",
    "    print('Оставляем нулевую гипотезу H_0 не принимаем альтернативную!')"
   ]
  },
  {
   "cell_type": "markdown",
   "id": "51866424",
   "metadata": {},
   "source": [
    "В ходе тестов выяснялось, что статистически значимой разницы по конверсиям между группами A и B не выявлено. Таким образом вероятность покупки у пользователей двух вариантов примерно одинакова."
   ]
  },
  {
   "cell_type": "markdown",
   "id": "a19677fa",
   "metadata": {},
   "source": [
    "Далее дополнительно рассмотрим доверительные интервалы с уровнем доверия 95%. Начнем с анализа ежедневного среднего чека. Так как в каждой из групп имеется по 23 наблюдения (23 дня), а истинное стандартное отклонение генеральной совокупности нам неизвестно, для построения доверительных интервалов будем использовать t-распределение (t-интервал)."
   ]
  },
  {
   "cell_type": "code",
   "execution_count": 24,
   "id": "87b62af8",
   "metadata": {},
   "outputs": [
    {
     "name": "stdout",
     "output_type": "stream",
     "text": [
      "Группа A: mean=80,969.29, 95% CI [79,630.35 - 82,308.22]\n",
      "Группа B: mean=88,575.72, 95% CI [87,625.83 - 89,525.61]\n"
     ]
    }
   ],
   "source": [
    "alpha = 0.05 # Уровень доверия 95%\n",
    "\n",
    "# Данные по группам\n",
    "group_a_avg_check = daily_data[daily_data['group'] == 'A']\n",
    "group_b_avg_check = daily_data[daily_data['group'] == 'B']\n",
    "\n",
    "# Для группы A\n",
    "mean_a, lower_a, upper_a = t_confidence_interval(group_a_avg_check['avg_check_daily'], alpha=alpha)\n",
    "# Для группы B\n",
    "mean_b, lower_b, upper_b = t_confidence_interval(group_b_avg_check['avg_check_daily'], alpha=alpha)\n",
    "\n",
    "print(f'Группа A: mean={mean_a:,.2f}, 95% CI [{lower_a:,.2f} - {upper_a:,.2f}]')\n",
    "print(f'Группа B: mean={mean_b:,.2f}, 95% CI [{lower_b:,.2f} - {upper_b:,.2f}]')"
   ]
  },
  {
   "cell_type": "markdown",
   "id": "d6a12606",
   "metadata": {},
   "source": [
    "С 95 % надежность, можно сказать, что интервалы не перекрываются (82 308 < 87 626) таким образом разница средних чеков статистически значима, что полностью согласуется с t-тестом! Переходим к конверсии в каждой из групп и разницей конверсий в группах."
   ]
  },
  {
   "cell_type": "code",
   "execution_count": 25,
   "id": "98f46aae",
   "metadata": {},
   "outputs": [
    {
     "name": "stdout",
     "output_type": "stream",
     "text": [
      "Группа A: p_a=12.04%, 95% CI [11.87%; 12.21%]\n",
      "Группа B: p_b=11.90%, 95% CI [11.73%; 12.06%]\n"
     ]
    }
   ],
   "source": [
    "alpha = 0.05 # Уровень доверия 95%\n",
    "\n",
    "# фильтруем данные группы\n",
    "purchase_piv = ab_data.groupby('group')['purchase'].agg(\n",
    "    ['sum', 'count']\n",
    ")\n",
    "\n",
    "# Для группы A\n",
    "p_a, lower_a, upper_a = proportion_conf_interval(\n",
    "    x_success=purchase_piv.loc['A','sum'],\n",
    "    n_total=purchase_piv.loc['A','count'],\n",
    "    alpha=0.05\n",
    ")\n",
    "\n",
    "# Для группы B\n",
    "p_b, lower_b, upper_b = proportion_conf_interval(\n",
    "    x_success=purchase_piv.loc['B','sum'],\n",
    "    n_total=purchase_piv.loc['B','count'],\n",
    "    alpha=0.05\n",
    ")\n",
    "\n",
    "print(f'Группа A: p_a={p_a*100:.2f}%, 95% CI [{lower_a*100:.2f}%; {upper_a*100:.2f}%]')\n",
    "print(f'Группа B: p_b={p_b*100:.2f}%, 95% CI [{lower_b*100:.2f}%; {upper_b*100:.2f}%]')"
   ]
  },
  {
   "cell_type": "code",
   "execution_count": 28,
   "id": "8069f6f2",
   "metadata": {},
   "outputs": [
    {
     "name": "stdout",
     "output_type": "stream",
     "text": [
      "Доверительный интервал для разности конверсий: [-0.38% - 0.09%]\n"
     ]
    }
   ],
   "source": [
    "# размеры выборок групп А и B\n",
    "n = [purchase_piv.loc['A','count'], purchase_piv.loc['B','count']]\n",
    "\n",
    "# конверсии (доли покупок)\n",
    "pA = purchase_piv.loc['A','sum'] / n[0]\n",
    "pB = purchase_piv.loc['B','sum'] / n[1]\n",
    "x_p = [pA, pB]\n",
    "\n",
    "# строим доверительный интервал для разности пропорций\n",
    "_, lower_bound, upper_bound = diff_proportion_conf_interval(x_p=x_p, n=n)\n",
    "\n",
    "# выводим результат\n",
    "print(f'Доверительный интервал для разности конверсий: [{round(lower_bound*100, 2)}% - {round(upper_bound*100, 2)}%]')"
   ]
  },
  {
   "cell_type": "markdown",
   "id": "903ccdaf",
   "metadata": {},
   "source": [
    "C 95% надежностью, можно сказать, что интервалы конверсий покупок в группах A и B сильно перекрываются, доверительный интервал (CI) для разницы (B - A) включает 0, таким образом разницы в конверсии статистически нет (что совпадает с Z-тестом, p=0.238)."
   ]
  },
  {
   "cell_type": "markdown",
   "id": "a1a679d0",
   "metadata": {},
   "source": [
    "# Вывод:\n",
    "\n",
    "Проведенные статистические тесты и доверительные интервалы показывают, что по показателю конверсии доверительные интервалы для групп A и B пересекаются, следовательно, статистически значимой разницы между ними нет. Однако по показателю ежедневного среднего чека доверительные интервалы не пересекаются, и разница является значимой: группа B имеет более высокий средний чек. Этот результат подтверждается как результатами t-теста, так и анализом доверительных интервалов."
   ]
  },
  {
   "cell_type": "markdown",
   "id": "518879d8",
   "metadata": {},
   "source": [
    "# 5. Общий вывод по результатам A/B-теста\n",
    "\n",
    "### Итог для бизнеса:\n",
    "\n",
    "Проведя анализ A/B тестирования эффективности обоих вариантов посадочной страницы по двум критериям - **конверсии покупки** и **ежедневному среднему чеку** выяснялось, что конверсии покупок между вариантами посадочной странице не отличается, эффективность вариантов по привлечению покупателей одинакова. Однако более высокий средний чек наблюдается в группе B (новый вариант страницы) это означает большую суммарную выручку для бизнеса. Таким образом, вариант дизайна B является более предпочтительным для турагентства, поскольку обеспечивает больший доход при сопоставимой конверсии покупок."
   ]
  }
 ],
 "metadata": {
  "kernelspec": {
   "display_name": "Python 3",
   "language": "python",
   "name": "python3"
  },
  "language_info": {
   "codemirror_mode": {
    "name": "ipython",
    "version": 3
   },
   "file_extension": ".py",
   "mimetype": "text/x-python",
   "name": "python",
   "nbconvert_exporter": "python",
   "pygments_lexer": "ipython3",
   "version": "3.12.7"
  }
 },
 "nbformat": 4,
 "nbformat_minor": 5
}
